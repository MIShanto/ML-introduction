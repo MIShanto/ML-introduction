{
 "cells": [
  {
   "cell_type": "code",
   "execution_count": 2,
   "metadata": {},
   "outputs": [
    {
     "name": "stdout",
     "output_type": "stream",
     "text": [
      "    Age  Experience  Rank Nationality   Go\n",
      "0    36          10     9          UK   NO\n",
      "1    42          12     4         USA   NO\n",
      "2    23           4     6           N   NO\n",
      "3    52           4     4         USA   NO\n",
      "4    43          21     8         USA  YES\n",
      "5    44          14     5          UK   NO\n",
      "6    66           3     7           N  YES\n",
      "7    35          14     9          UK  YES\n",
      "8    52          13     7           N  YES\n",
      "9    35           5     9           N  YES\n",
      "10   24           3     5         USA   NO\n",
      "11   18           3     7          UK  YES\n",
      "12   45           9     9          UK  YES\n"
     ]
    }
   ],
   "source": [
    "import pandas\n",
    "from sklearn import tree\n",
    "import pydotplus\n",
    "from sklearn.tree import DecisionTreeClassifier\n",
    "import matplotlib.pyplot as plt\n",
    "import matplotlib.image as pltimg\n",
    "\n",
    "df = pandas.read_csv(\"shows.csv\")\n",
    "\n",
    "print(df)"
   ]
  },
  {
   "cell_type": "markdown",
   "metadata": {},
   "source": [
    "### To make a decision tree, all data has to be numerical.                                                             We have to convert the non numerical columns 'Nationality' and 'Go' into numerical values. Pandas has a map() method that takes a dictionary with information on how to convert the values. {'UK': 0, 'USA': 1, 'N': 2} Means convert the values 'UK' to 0, 'USA' to 1, and 'N' to 2."
   ]
  },
  {
   "cell_type": "code",
   "execution_count": 3,
   "metadata": {},
   "outputs": [
    {
     "name": "stdout",
     "output_type": "stream",
     "text": [
      "    Age  Experience  Rank  Nationality  Go\n",
      "0    36          10     9            0   0\n",
      "1    42          12     4            1   0\n",
      "2    23           4     6            2   0\n",
      "3    52           4     4            1   0\n",
      "4    43          21     8            1   1\n",
      "5    44          14     5            0   0\n",
      "6    66           3     7            2   1\n",
      "7    35          14     9            0   1\n",
      "8    52          13     7            2   1\n",
      "9    35           5     9            2   1\n",
      "10   24           3     5            1   0\n",
      "11   18           3     7            0   1\n",
      "12   45           9     9            0   1\n"
     ]
    }
   ],
   "source": [
    "d = {'UK': 0, 'USA': 1, 'N': 2}\n",
    "df['Nationality'] = df['Nationality'].map(d)\n",
    "d = {'YES': 1, 'NO': 0}\n",
    "df['Go'] = df['Go'].map(d)\n",
    "\n",
    "print(df)"
   ]
  },
  {
   "cell_type": "code",
   "execution_count": 4,
   "metadata": {},
   "outputs": [
    {
     "name": "stdout",
     "output_type": "stream",
     "text": [
      "    Age  Experience  Rank  Nationality\n",
      "0    36          10     9            0\n",
      "1    42          12     4            1\n",
      "2    23           4     6            2\n",
      "3    52           4     4            1\n",
      "4    43          21     8            1\n",
      "5    44          14     5            0\n",
      "6    66           3     7            2\n",
      "7    35          14     9            0\n",
      "8    52          13     7            2\n",
      "9    35           5     9            2\n",
      "10   24           3     5            1\n",
      "11   18           3     7            0\n",
      "12   45           9     9            0\n",
      "0     0\n",
      "1     0\n",
      "2     0\n",
      "3     0\n",
      "4     1\n",
      "5     0\n",
      "6     1\n",
      "7     1\n",
      "8     1\n",
      "9     1\n",
      "10    0\n",
      "11    1\n",
      "12    1\n",
      "Name: Go, dtype: int64\n"
     ]
    }
   ],
   "source": [
    "features = ['Age', 'Experience', 'Rank', 'Nationality']\n",
    "\n",
    "X = df[features]\n",
    "y = df['Go']\n",
    "\n",
    "print(X)\n",
    "print(y)"
   ]
  },
  {
   "cell_type": "code",
   "execution_count": 5,
   "metadata": {},
   "outputs": [],
   "source": [
    "dtree = DecisionTreeClassifier()\n",
    "dtree = dtree.fit(X, y)"
   ]
  },
  {
   "cell_type": "code",
   "execution_count": 6,
   "metadata": {},
   "outputs": [
    {
     "data": {
      "text/plain": [
       "True"
      ]
     },
     "execution_count": 6,
     "metadata": {},
     "output_type": "execute_result"
    }
   ],
   "source": [
    "data = tree.export_graphviz(dtree, out_file=None, feature_names=features)\n",
    "graph = pydotplus.graph_from_dot_data(data)\n",
    "graph.write_png('mydecisiontree.png') # save a .png file on the computer of the decission tree."
   ]
  },
  {
   "cell_type": "code",
   "execution_count": 7,
   "metadata": {},
   "outputs": [
    {
     "data": {
      "image/png": "[encoded data removed]",
      "text/plain": [
       "<Figure size 432x288 with 1 Axes>"
      ]
     },
     "metadata": {
      "needs_background": "light"
     },
     "output_type": "display_data"
    }
   ],
   "source": [
    "img=pltimg.imread('mydecisiontree.png')\n",
    "imgplot = plt.imshow(img)\n",
    "plt.show()"
   ]
  },
  {
   "cell_type": "markdown",
   "metadata": {},
   "source": [
    "# Result Explained\n",
    "\n",
    "The decision tree uses your earlier decisions to calculate the odds for you to wanting to go see a comedian or not.\n",
    "\n",
    "Let us read the different aspects of the decision tree:\n",
    "\n",
    "\n",
    "\n",
    "# Rank\n",
    "\n",
    "Rank <= 6.5 means that every comedian with a rank of 6.5 or lower will follow the True arrow (to the left), and the rest will follow the False arrow (to the right).\n",
    "\n",
    "\n",
    "\n",
    "gini = 0.497 refers to the quality of the split, and is always a number between 0.0 and 0.5, where 0.0 would mean all of the samples got the same result, and 0.5 would mean that the split is done exactly in the middle.\n",
    "\n",
    "\n",
    "\n",
    "samples = 13 means that there are 13 comedians left at this point in the decision, which is all of them since this is the first step.\n",
    "\n",
    "\n",
    "\n",
    "value = [6, 7] means that of these 13 comedians, 6 will get a \"NO\", and 7 will get a \"GO\".\n",
    "\n",
    "# Gini\n",
    "\n",
    "There are many ways to split the samples, we use the GINI method in this tutorial.\n",
    "\n",
    "The Gini method uses this formula:\n",
    "\n",
    "### Gini = 1 - (x/n)2 - (y/n)2\n",
    "\n",
    "\n",
    "Where x is the number of positive answers(\"GO\"), n is the number of samples, and y is the number of negative answers (\"NO\"), which gives us this calculation:\n",
    "\n",
    "1 - (7 / 13)2 - (6 / 13)2 = 0.497\n",
    "\n",
    "\n",
    "\n",
    "\n",
    "\n",
    "The next step contains two boxes, one box for the comedians with a 'Rank' of 6.5 or lower, and one box with the rest.\n",
    "\n",
    "### True - 5 Comedians End Here:\n",
    " gini = 0.0 means all of the samples got the same result.\n",
    "\n",
    " samples = 5 means that there are 5 comedians left in this branch (5 comedian with a Rank of 6.5 or lower).\n",
    "\n",
    " value = [5, 0] means that 5 will get a \"NO\" and 0 will get a \"GO\".\n",
    "\n",
    "### False - 8 Comedians Continue:\n",
    "Nationality\n",
    "Nationality <= 0.5 means that the comedians with a nationality value of less than 0.5 will follow the arrow to the left (which means everyone from the UK, ), and the rest will follow the arrow to the right.\n",
    "\n",
    "gini = 0.219 means that about 22% of the samples would go in one direction.\n",
    "\n",
    "samples = 8 means that there are 8 comedians left in this branch (8 comedian with a Rank higher than 6.5).\n",
    "\n",
    "value = [1, 7] means that of these 8 comedians, 1 will get a \"NO\" and 7 will get a \"GO\".\n",
    "\n",
    "\n",
    "\n",
    "\n",
    "\n",
    "### True - 4 Comedians Continue:\n",
    "# Age\n",
    "Age <= 35.5 means that comedians at the age of 35.5 or younger will follow the arrow to the left, and the rest will follow the arrow to the right.\n",
    "\n",
    "gini = 0.375 means that about 37,5% of the samples would go in one direction.\n",
    "\n",
    "samples = 4 means that there are 4 comedians left in this branch (4 comedians from the UK).\n",
    "\n",
    "value = [1, 3] means that of these 4 comedians, 1 will get a \"NO\" and 3 will get a \"GO\".\n",
    "\n",
    "False - 4 Comedians End Here:\n",
    "gini = 0.0 means all of the samples got the same result.\n",
    "\n",
    "samples = 4 means that there are 4 comedians left in this branch (4 comedians not from the UK).\n",
    "\n",
    "value = [0, 4] means that of these 4 comedians, 0 will get a \"NO\" and 4 will get a \"GO\".\n",
    "\n",
    "\n",
    "\n",
    "\n",
    "\n",
    "True - 2 Comedians End Here:\n",
    "gini = 0.0 means all of the samples got the same result.\n",
    "\n",
    "samples = 2 means that there are 2 comedians left in this branch (2 comedians at the age 35.5 or younger).\n",
    "\n",
    "value = [0, 2] means that of these 2 comedians, 0 will get a \"NO\" and 2 will get a \"GO\".\n",
    "\n",
    "False - 2 Comedians Continue:\n",
    "Experience\n",
    "Experience <= 9.5 means that comedians with 9.5 years of experience, or less, will follow the arrow to the left, and the rest will follow the arrow to the right.\n",
    "\n",
    "gini = 0.5 means that 50% of the samples would go in one direction.\n",
    "\n",
    "samples = 2 means that there are 2 comedians left in this branch (2 comedians older than 35.5).\n",
    "\n",
    "value = [1, 1] means that of these 2 comedians, 1 will get a \"NO\" and 1 will get a \"GO\".\n",
    "\n",
    "\n",
    "\n",
    "\n",
    "\n",
    "True - 1 Comedian Ends Here:\n",
    "gini = 0.0 means all of the samples got the same result.\n",
    "\n",
    "samples = 1 means that there is 1 comedian left in this branch (1 comedian with 9.5 years of experience or less).\n",
    "\n",
    "value = [0, 1] means that 0 will get a \"NO\" and 1 will get a \"GO\".\n",
    "\n",
    "False - 1 Comedian Ends Here:\n",
    "gini = 0.0 means all of the samples got the same result.\n",
    "\n",
    "samples = 1 means that there is 1 comedians left in this branch (1 comedian with more than 9.5 years of experience).\n",
    "\n",
    "value = [1, 0] means that 1 will get a \"NO\" and 0 will get a \"GO\".\n",
    "\n",
    "\n",
    "\n",
    "\n",
    "# see w3 school decission tree part for better understanding ... :3"
   ]
  },
  {
   "cell_type": "code",
   "execution_count": 8,
   "metadata": {},
   "outputs": [
    {
     "name": "stdout",
     "output_type": "stream",
     "text": [
      "[0]\n"
     ]
    }
   ],
   "source": [
    "print(dtree.predict([[40, 10, 7, 1]]))\n",
    "\n"
   ]
  },
  {
   "cell_type": "code",
   "execution_count": null,
   "metadata": {},
   "outputs": [],
   "source": []
  }
 ],
 "metadata": {
  "kernelspec": {
   "display_name": "Python 3",
   "language": "python",
   "name": "python3"
  },
  "language_info": {
   "codemirror_mode": {
    "name": "ipython",
    "version": 3
   },
   "file_extension": ".py",
   "mimetype": "text/x-python",
   "name": "python",
   "nbconvert_exporter": "python",
   "pygments_lexer": "ipython3",
   "version": "3.7.6"
  }
 },
 "nbformat": 4,
 "nbformat_minor": 4
}
